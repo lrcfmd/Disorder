{
 "cells": [
  {
   "cell_type": "code",
   "execution_count": 1,
   "metadata": {},
   "outputs": [],
   "source": [
    "import numpy as np\n",
    "import pandas as pd\n",
    "import json\n",
    "import os\n",
    "\n",
    "from disorder.disorder import Disorder\n",
    "from disorder.entropy import Entropy"
   ]
  },
  {
   "cell_type": "code",
   "execution_count": 2,
   "metadata": {},
   "outputs": [],
   "source": [
    "path='data/Examples/'\n",
    "list_of_files=os.listdir(path)"
   ]
  },
  {
   "cell_type": "code",
   "execution_count": 3,
   "metadata": {},
   "outputs": [
    {
     "name": "stderr",
     "output_type": "stream",
     "text": [
      "100%|██████████| 26/26 [00:21<00:00,  1.23it/s]"
     ]
    },
    {
     "name": "stdout",
     "output_type": "stream",
     "text": [
      "21.075075149536133\n"
     ]
    },
    {
     "name": "stderr",
     "output_type": "stream",
     "text": [
      "\n"
     ]
    }
   ],
   "source": [
    "from tqdm import tqdm\n",
    "from time import time\n",
    "\n",
    "disordered_comp={}\n",
    "exc=[]\n",
    "exc_oxi=[]\n",
    "exc_large=[]\n",
    "errors=[]\n",
    "errors_oxi=[]\n",
    "errors_large=[]\n",
    "\n",
    "t1=time()\n",
    "for i in tqdm(range(len(list_of_files))):\n",
    "    file=list_of_files[i]\n",
    "    try:\n",
    "        ent=Entropy(file=path+file,radius_file='data/all_radii.csv')\n",
    "        compound={}\n",
    "        compound['formula']=ent.formula\n",
    "        compound['ICSD_ID']=ent.material.material.read_id\n",
    "        compound['group_num']=ent.material.material.space_group\n",
    "        compound['Z']=ent.z\n",
    "        if(np.nan not in ent.material.element_radiuses()):\n",
    "            if(len(ent.material.positions)<501):\n",
    "                orbits=ent.data\n",
    "                compound=compound|orbits.to_dict()\n",
    "                ent=Entropy(file=path+file,radius_file='data/all_radii.csv')\n",
    "                compound['mixing_entropy']=ent.calculate_entropy('mixing')\n",
    "                compound['conf_entropy']=ent.calculate_entropy('configurational')\n",
    "                disordered_comp[file]=compound\n",
    "            else:\n",
    "                exc_large.append(file)\n",
    "                errors_large.append(list(set(ent.material.return_errors())))\n",
    "        else:\n",
    "            exc_oxi.append(file)\n",
    "            errors_oxi.append(list(set(ent.material.return_errors())))\n",
    "                                    \n",
    "    except:\n",
    "        exc.append(file)\n",
    "        errors.append(list(set(ent.material.return_errors())))\n",
    "t2=time()\n",
    "print(t2-t1)"
   ]
  },
  {
   "cell_type": "code",
   "execution_count": 4,
   "metadata": {},
   "outputs": [],
   "source": [
    "with open('disorder_results.json','w') as f:\n",
    "    json.dump(disordered_comp, f, indent = 4)"
   ]
  },
  {
   "cell_type": "code",
   "execution_count": 5,
   "metadata": {},
   "outputs": [],
   "source": [
    "err=pd.DataFrame()\n",
    "err['id']=exc\n",
    "err['errors']=errors\n",
    "err.to_csv('excluded_files.csv')\n",
    "\n",
    "err=pd.DataFrame()\n",
    "err['id']=exc_large\n",
    "err['errors']=errors_large\n",
    "err.to_csv('files_number_of_sites_larger_500.csv')\n",
    "\n",
    "err=pd.DataFrame()\n",
    "err['id']=exc_oxi\n",
    "err['errors']=errors_oxi\n",
    "err.to_csv('files_oxidation_errors.csv')"
   ]
  },
  {
   "cell_type": "code",
   "execution_count": null,
   "metadata": {},
   "outputs": [],
   "source": []
  }
 ],
 "metadata": {
  "kernelspec": {
   "display_name": "Python 3 (ipykernel)",
   "language": "python",
   "name": "python3"
  },
  "language_info": {
   "codemirror_mode": {
    "name": "ipython",
    "version": 3
   },
   "file_extension": ".py",
   "mimetype": "text/x-python",
   "name": "python",
   "nbconvert_exporter": "python",
   "pygments_lexer": "ipython3",
   "version": "3.11.9"
  }
 },
 "nbformat": 4,
 "nbformat_minor": 4
}
